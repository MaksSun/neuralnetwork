{
 "cells": [
  {
   "cell_type": "code",
   "execution_count": 5,
   "id": "f5f4b1b4-1230-47d5-b4bb-94bd849faafa",
   "metadata": {},
   "outputs": [],
   "source": [
    "import numpy as np"
   ]
  },
  {
   "cell_type": "code",
   "execution_count": 6,
   "id": "e621eee7-94fc-40ed-a313-403f24b0ff9a",
   "metadata": {},
   "outputs": [],
   "source": [
    "# Загрузить библиотеку\n",
    "vector_row = np.array([1, 2, 3])"
   ]
  },
  {
   "cell_type": "code",
   "execution_count": 7,
   "id": "bccf32b7-0645-4c41-8289-f3958520b398",
   "metadata": {},
   "outputs": [],
   "source": [
    "# Создать вектор как строку\n",
    "vector_column = np.array([[1],\n",
    "                          [2],\n",
    "                          [3]])"
   ]
  },
  {
   "cell_type": "code",
   "execution_count": 9,
   "id": "9088e35c-d60d-46e7-bfd3-c8f7f95f7592",
   "metadata": {},
   "outputs": [
    {
     "name": "stdout",
     "output_type": "stream",
     "text": [
      "[1 2 3]\n",
      "[[1]\n",
      " [2]\n",
      " [3]]\n"
     ]
    }
   ],
   "source": [
    "print(vector_row)\n",
    "print(vector_column)"
   ]
  },
  {
   "cell_type": "code",
   "execution_count": null,
   "id": "6914270c-be38-4076-bf1b-0345873320bb",
   "metadata": {},
   "outputs": [],
   "source": []
  }
 ],
 "metadata": {
  "kernelspec": {
   "display_name": "Python 3 (ipykernel)",
   "language": "python",
   "name": "python3"
  },
  "language_info": {
   "codemirror_mode": {
    "name": "ipython",
    "version": 3
   },
   "file_extension": ".py",
   "mimetype": "text/x-python",
   "name": "python",
   "nbconvert_exporter": "python",
   "pygments_lexer": "ipython3",
   "version": "3.12.3"
  }
 },
 "nbformat": 4,
 "nbformat_minor": 5
}
