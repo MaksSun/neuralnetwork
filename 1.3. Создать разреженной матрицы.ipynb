{
 "cells": [
  {
   "cell_type": "code",
   "execution_count": 7,
   "id": "3bb27f30-150b-47f6-bf1c-92254214f248",
   "metadata": {},
   "outputs": [],
   "source": [
    "# Загрузить библиотеку\n",
    "import numpy as np\n",
    "from scipy import sparse"
   ]
  },
  {
   "cell_type": "code",
   "execution_count": 8,
   "id": "55f1c98a-45d5-4ed4-ab8d-2480d8bf927d",
   "metadata": {},
   "outputs": [],
   "source": [
    "# Создать матрицу\n",
    "matrix = np.array([[0, 0],\n",
    "                   [0, 1],\n",
    "                   [3, 0]])"
   ]
  },
  {
   "cell_type": "code",
   "execution_count": 9,
   "id": "15edf667-f079-464e-a567-8d118ec8384c",
   "metadata": {},
   "outputs": [],
   "source": [
    "# Создать сжатую разреженную матрицу-строку (CSR-матрицу)\n",
    "matrix_sparse = sparse.csr_matrix(matrix)"
   ]
  },
  {
   "cell_type": "code",
   "execution_count": 10,
   "id": "dd7eeed5-fe97-4f46-b55f-87eed7610be2",
   "metadata": {},
   "outputs": [
    {
     "name": "stdout",
     "output_type": "stream",
     "text": [
      "  (np.int32(1), np.int32(1))\t1\n",
      "  (np.int32(2), np.int32(0))\t3\n"
     ]
    }
   ],
   "source": [
    "# Вглянуть на разреженную матрицу\n",
    "print(matrix_sparse)"
   ]
  },
  {
   "cell_type": "code",
   "execution_count": 11,
   "id": "4e2d02d5-2efe-41f7-8c78-bfd8b9016f49",
   "metadata": {},
   "outputs": [],
   "source": [
    "# Создать более крупную матрицу\n",
    "matrix_large = np.array([[0, 0, 0, 0, 0, 0, 0, 0, 0, 0],\n",
    "                         [0, 1, 0, 0, 0, 0, 0, 0, 0, 0],\n",
    "                         [3, 0, 0, 0, 0, 0, 0, 0, 0, 0]])"
   ]
  },
  {
   "cell_type": "code",
   "execution_count": 13,
   "id": "55a3a738-9e89-4e9b-8c15-dbaf3c7f267f",
   "metadata": {},
   "outputs": [],
   "source": [
    "# создать сжатую разреженную матрицу-строку (CSR-матрицу)\n",
    "matrix_large_sparse = sparse.csr_matrix(matrix_large)"
   ]
  },
  {
   "cell_type": "code",
   "execution_count": 14,
   "id": "babdd7e4-3f9b-4811-8f90-cb63808700ac",
   "metadata": {},
   "outputs": [
    {
     "name": "stdout",
     "output_type": "stream",
     "text": [
      "  (np.int32(1), np.int32(1))\t1\n",
      "  (np.int32(2), np.int32(0))\t3\n"
     ]
    }
   ],
   "source": [
    "# Взглянуть на исходную разреженную матрицу\n",
    "print(matrix_sparse)"
   ]
  },
  {
   "cell_type": "code",
   "execution_count": 15,
   "id": "f63e51ac-baba-41de-a550-599d0e1c52a9",
   "metadata": {},
   "outputs": [
    {
     "name": "stdout",
     "output_type": "stream",
     "text": [
      "  (np.int32(1), np.int32(1))\t1\n",
      "  (np.int32(2), np.int32(0))\t3\n"
     ]
    }
   ],
   "source": [
    "# Взглянуть на более крупную разреженную матрицу\n",
    "print(matrix_large_sparse)"
   ]
  },
  {
   "cell_type": "code",
   "execution_count": null,
   "id": "1984753f-c678-4fcd-96b0-974c98467d92",
   "metadata": {},
   "outputs": [],
   "source": []
  }
 ],
 "metadata": {
  "kernelspec": {
   "display_name": "Python 3 (ipykernel)",
   "language": "python",
   "name": "python3"
  },
  "language_info": {
   "codemirror_mode": {
    "name": "ipython",
    "version": 3
   },
   "file_extension": ".py",
   "mimetype": "text/x-python",
   "name": "python",
   "nbconvert_exporter": "python",
   "pygments_lexer": "ipython3",
   "version": "3.12.3"
  }
 },
 "nbformat": 4,
 "nbformat_minor": 5
}
