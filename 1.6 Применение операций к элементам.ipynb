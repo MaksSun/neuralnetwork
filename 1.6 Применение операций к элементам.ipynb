{
 "cells": [
  {
   "cell_type": "code",
   "execution_count": 17,
   "id": "7eef9aed-dd8a-4c50-ba1c-29c31a21d3ed",
   "metadata": {},
   "outputs": [],
   "source": [
    "# Загрузить библиотеку\n",
    "import numpy as np"
   ]
  },
  {
   "cell_type": "code",
   "execution_count": 18,
   "id": "cf752eee-ff09-4f1f-9e52-297a2c72515f",
   "metadata": {},
   "outputs": [],
   "source": [
    "# Создать матрицу\n",
    "matrix = np.array([[1, 2, 3],\n",
    "                   [4, 5, 6],\n",
    "                   [7, 8, 9]])"
   ]
  },
  {
   "cell_type": "code",
   "execution_count": 19,
   "id": "ba035c74-bc37-4099-9d84-b5d65b0d2e4d",
   "metadata": {},
   "outputs": [],
   "source": [
    "# Создать функцию, которая добавляет к чему-то 100\n",
    "add_100 = lambda i: i + 100"
   ]
  },
  {
   "cell_type": "code",
   "execution_count": 20,
   "id": "fc838b50-9326-4e17-b986-7516cfb7fd9f",
   "metadata": {},
   "outputs": [],
   "source": [
    "# Создать векторизованную функцию\n",
    "vectorized_add_100 = np.vectorize(add_100)"
   ]
  },
  {
   "cell_type": "code",
   "execution_count": 21,
   "id": "2194d64b-7efd-4fd8-acbd-ea8b96a07353",
   "metadata": {},
   "outputs": [
    {
     "data": {
      "text/plain": [
       "array([[101, 102, 103],\n",
       "       [104, 105, 106],\n",
       "       [107, 108, 109]])"
      ]
     },
     "execution_count": 21,
     "metadata": {},
     "output_type": "execute_result"
    }
   ],
   "source": [
    "# Применить функцию ко всем элементам в матрице\n",
    "vectorized_add_100(matrix)"
   ]
  },
  {
   "cell_type": "code",
   "execution_count": 22,
   "id": "441a8608-831a-459e-899a-4e94e2e5e95a",
   "metadata": {},
   "outputs": [
    {
     "data": {
      "text/plain": [
       "array([[101, 102, 103],\n",
       "       [104, 105, 106],\n",
       "       [107, 108, 109]])"
      ]
     },
     "execution_count": 22,
     "metadata": {},
     "output_type": "execute_result"
    }
   ],
   "source": [
    "# Добавить 100 ко всем элементам\n",
    "matrix + 100"
   ]
  }
 ],
 "metadata": {
  "kernelspec": {
   "display_name": "Python 3 (ipykernel)",
   "language": "python",
   "name": "python3"
  },
  "language_info": {
   "codemirror_mode": {
    "name": "ipython",
    "version": 3
   },
   "file_extension": ".py",
   "mimetype": "text/x-python",
   "name": "python",
   "nbconvert_exporter": "python",
   "pygments_lexer": "ipython3",
   "version": "3.12.3"
  }
 },
 "nbformat": 4,
 "nbformat_minor": 5
}
